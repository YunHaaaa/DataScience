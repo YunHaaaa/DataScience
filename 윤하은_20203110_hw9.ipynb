{
  "nbformat": 4,
  "nbformat_minor": 0,
  "metadata": {
    "colab": {
      "name": "윤하은_20203110_과제9.ipynb",
      "provenance": [],
      "collapsed_sections": []
    },
    "kernelspec": {
      "name": "python3",
      "display_name": "Python 3"
    },
    "language_info": {
      "name": "python"
    }
  },
  "cells": [
    {
      "cell_type": "code",
      "metadata": {
        "id": "S6kVwICyoe0Z"
      },
      "source": [
        "import zipfile\n",
        "import requests\n",
        "from collections import Counter\n",
        "import re\n",
        "import math\n",
        "import random\n",
        "\n",
        "url = \"https://www.dt.fee.unicamp.br/~tiago/smsspamcollection/smsspamcollection.zip\"\n",
        "r = requests.get(url)\n",
        "open(\"spam.zip\", \"wb\").write(r.content)\n",
        "zipfile.ZipFile(\"spam.zip\").extractall(\"./\")\n",
        "\n",
        "data = [line.strip().split(\"\\t\") for line in open(\"SMSSpamCollection.txt\", \"r\")]\n",
        "for d in data:\n",
        "  d[1] = set(re.findall(\"[a-z0-1_]+\", d[1].lower()))\n",
        "  \n",
        "random.shuffle(data)\n",
        "train_len = int(len(data) * 0.8)\n",
        "test_len = len(data) - train_len\n",
        "train = data[:train_len]\n",
        "test = data[train_len:]\n",
        "\n",
        "train_spam = [bow for cls, bow in train if cls == 'spam']\n",
        "train_ham = [bow for cls, bow in train if cls == 'ham']\n",
        "\n",
        "prior_spam = math.log(len(train_spam) / len(train))\n",
        "prior_ham = math.log(len(train_ham) / len(train))\n",
        "\n",
        "spam_words = Counter(word for bow in train_spam for word in bow)\n",
        "ham_words = Counter(word for bow in train_ham for word in bow)"
      ],
      "execution_count": 15,
      "outputs": []
    },
    {
      "cell_type": "code",
      "metadata": {
        "id": "lBoAFMq2pfLT"
      },
      "source": [
        "def predict(bow, spam_words, ham_words, n_spams, n_hams, alpha):\n",
        "  spam_score = prior_spam + sum( math.log((spam_words[word] + alpha)/(n_spams + alpha)) for word in bow)\n",
        "  ham_score = prior_ham + sum( math.log((ham_words[word] + alpha)/(n_hams + alpha)) for word in bow)\n",
        " \n",
        "  if spam_score < ham_score:\n",
        "    return 'ham'\n",
        "  else:\n",
        "    return 'spam'"
      ],
      "execution_count": 9,
      "outputs": []
    },
    {
      "cell_type": "code",
      "metadata": {
        "id": "Loz67t5Zppv7"
      },
      "source": [
        "tp, tn, fp, fn = 0, 0, 0, 0\n",
        "for cls, bow in test:\n",
        "  pred = predict(bow, spam_words, ham_words, len(train_spam), len(train_ham), 1e-4)\n",
        "   \n",
        "  if cls == 'spam' and pred == 'spam':\n",
        "     tp += 1\n",
        "  elif cls == 'ham' and pred == 'ham':\n",
        "     tn += 1\n",
        "  elif cls == 'ham' and pred == 'spam':\n",
        "     fp += 1\n",
        "  else:\n",
        "     fn += 1"
      ],
      "execution_count": 12,
      "outputs": []
    },
    {
      "cell_type": "code",
      "metadata": {
        "colab": {
          "base_uri": "https://localhost:8080/"
        },
        "id": "ANDd9SQRqCYR",
        "outputId": "bca5d201-950e-413c-8efc-564e824bdec5"
      },
      "source": [
        "accuracy = (tp + tn) / (tp + tn + fp + fn)\n",
        "precision = tp / (tp + fp)\n",
        "recall = tp / (tp + fn)\n",
        "f1 = 2 * precision * recall / (precision + recall)\n",
        "print(\"accuracy :\", accuracy)\n",
        "print(\"precision :\", precision)\n",
        "print(\"recall :\", recall)\n",
        "print(\"f1 :\", f1)\n"
      ],
      "execution_count": 14,
      "outputs": [
        {
          "output_type": "stream",
          "name": "stdout",
          "text": [
            "accuracy : 0.9721973094170404\n",
            "precision : 0.8595505617977528\n",
            "recall : 0.9622641509433962\n",
            "f1 : 0.9080118694362018\n"
          ]
        }
      ]
    }
  ]
}
