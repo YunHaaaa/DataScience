{
  "nbformat": 4,
  "nbformat_minor": 0,
  "metadata": {
    "colab": {
      "name": "20203110_윤하은_과제3.ipynb",
      "provenance": [],
      "collapsed_sections": []
    },
    "kernelspec": {
      "name": "python3",
      "display_name": "Python 3"
    },
    "language_info": {
      "name": "python"
    }
  },
  "cells": [
    {
      "cell_type": "code",
      "metadata": {
        "colab": {
          "base_uri": "https://localhost:8080/"
        },
        "id": "XvfMiT7E7cIY",
        "outputId": "4df66b57-9e62-4e71-a13e-fe6c89022577"
      },
      "source": [
        "import torch\n",
        "import torch.nn.functional as F\n",
        "import torch.nn as nn\n",
        "\n",
        "x_train = torch.FloatTensor([ [1,2,1,1], [2,1,3,2], [3,1,3,4], [4,1,5,5], [1,7,5,5],\n",
        " [1,2,5,6], [1,6,6,6], [1,7,7,7] ])\n",
        "y_train = torch.LongTensor([2,2,2,1,1,1,0,0])\n",
        "\n",
        "#W = torch.zeros(4, 3, requires_grad=True)\n",
        "#b = torch.zeros(1, 3, requires_grad=True)\n",
        "model = nn.Linear(4, 3)\n",
        "optimizer = torch.optim.Adam([W,b], lr=0.1)\n",
        "\n",
        "for epoch in range(3001):\n",
        " #hypothesis = torch.softmax(torch.mm(x_train, W)+b, dim=1)\n",
        " #cost = -torch.mean(torch.sum(y_train * torch.log(hypothesis), dim=1))\n",
        "\n",
        " #z = torch.mm(x_train, W)+b\n",
        " z = model(x_train)\n",
        " cost = F.cross_entropy(z, y_train)\n",
        " \n",
        " optimizer.zero_grad()\n",
        " cost.backward()\n",
        " optimizer.step()\n",
        "\n",
        " if epoch % 300 == 0:\n",
        "  print(\"epoch: {}, cost: {:.6f}\".format(epoch, cost.item()))\n",
        "\n",
        "W.requires_grad_(False)\n",
        "b.requires_grad_(False)\n",
        "x_test = torch.FloatTensor([[1,11,10,9], [1,3,4,3], [1,1,0,1]])\n",
        "test_all = torch.softmax(torch.mm(x_test, W)+b, dim=1)\n",
        "print(test_all)\n",
        "print(torch.argmax(test_all, dim=1))\n"
      ],
      "execution_count": 7,
      "outputs": [
        {
          "output_type": "stream",
          "name": "stdout",
          "text": [
            "epoch: 0, cost: 1.139168\n",
            "epoch: 300, cost: 1.139168\n",
            "epoch: 600, cost: 1.139168\n",
            "epoch: 900, cost: 1.139168\n",
            "epoch: 1200, cost: 1.139168\n",
            "epoch: 1500, cost: 1.139168\n",
            "epoch: 1800, cost: 1.139168\n",
            "epoch: 2100, cost: 1.139168\n",
            "epoch: 2400, cost: 1.139168\n",
            "epoch: 2700, cost: 1.139168\n",
            "epoch: 3000, cost: 1.139168\n",
            "tensor([[0.3333, 0.3333, 0.3333],\n",
            "        [0.3333, 0.3333, 0.3333],\n",
            "        [0.3333, 0.3333, 0.3333]])\n",
            "tensor([0, 0, 0])\n"
          ]
        }
      ]
    },
    {
      "cell_type": "code",
      "metadata": {
        "colab": {
          "base_uri": "https://localhost:8080/"
        },
        "id": "tbFOa4Dr_eRq",
        "outputId": "65a57076-d22f-4d8a-adf8-c85880c4b9cd"
      },
      "source": [
        "import numpy as np\n",
        "from sklearn.linear_model import LogisticRegression\n",
        "x_train = np.array([ [1,2,1,1], [2,1,3,2], [3,1,3,4], [4,1,5,5], [1,7,5,5],\n",
        " [1,2,5,6], [1,6,6,6], [1,7,7,7] ])\n",
        "# y에 0, 1, 2 등 둘 이상의 class가 존재 => softmax regression\n",
        "y_train = np.array([ 2, 2, 2, 1, 1, 1, 0, 0 ])\n",
        "logistic = LogisticRegression() # 모델 생성\n",
        "logistic.fit(x_train, y_train) # 학습\n",
        "pred = logistic.predict([[1,11,10,9], [1,3,4,3], [1,1,0,1]]) # test case (값 예측)\n",
        "print(pred) # 출력"
      ],
      "execution_count": 8,
      "outputs": [
        {
          "output_type": "stream",
          "name": "stdout",
          "text": [
            "[0 2 2]\n"
          ]
        }
      ]
    }
  ]
}
